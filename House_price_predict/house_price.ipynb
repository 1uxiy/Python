{
 "cells": [
  {
   "cell_type": "code",
   "id": "initial_id",
   "metadata": {
    "collapsed": true,
    "ExecuteTime": {
     "end_time": "2024-08-13T00:34:10.936989Z",
     "start_time": "2024-08-13T00:34:10.933674Z"
    }
   },
   "source": [
    "import numpy as np\n",
    "import pandas as pd\n",
    "from matplotlib import pyplot as plt\n",
    "import seaborn as sns\n",
    "from matplotlib import pyplot as plt\n",
    "#%matplotlib inline"
   ],
   "outputs": [],
   "execution_count": 1
  },
  {
   "metadata": {
    "ExecuteTime": {
     "end_time": "2024-08-13T00:35:09.386003Z",
     "start_time": "2024-08-13T00:35:09.372525Z"
    }
   },
   "cell_type": "code",
   "source": [
    "df = pd.read_csv('C:/Users/DELL/Desktop/Housing.csv')\n",
    "df['furnishingstatus']=df['furnishingstatus'].str.replace('-','_')\n",
    "df.head()"
   ],
   "id": "c2f7f7e233545542",
   "outputs": [
    {
     "data": {
      "text/plain": [
       "      price  area  bedrooms  bathrooms  stories mainroad guestroom basement  \\\n",
       "0  13300000  7420         4          2        3      yes        no       no   \n",
       "1  12250000  8960         4          4        4      yes        no       no   \n",
       "2  12250000  9960         3          2        2      yes        no      yes   \n",
       "3  12215000  7500         4          2        2      yes        no      yes   \n",
       "4  11410000  7420         4          1        2      yes       yes      yes   \n",
       "\n",
       "  hotwaterheating airconditioning  parking prefarea furnishingstatus  \n",
       "0              no             yes        2      yes        furnished  \n",
       "1              no             yes        3       no        furnished  \n",
       "2              no              no        2      yes   semi_furnished  \n",
       "3              no             yes        3      yes        furnished  \n",
       "4              no             yes        2       no        furnished  "
      ],
      "text/html": [
       "<div>\n",
       "<style scoped>\n",
       "    .dataframe tbody tr th:only-of-type {\n",
       "        vertical-align: middle;\n",
       "    }\n",
       "\n",
       "    .dataframe tbody tr th {\n",
       "        vertical-align: top;\n",
       "    }\n",
       "\n",
       "    .dataframe thead th {\n",
       "        text-align: right;\n",
       "    }\n",
       "</style>\n",
       "<table border=\"1\" class=\"dataframe\">\n",
       "  <thead>\n",
       "    <tr style=\"text-align: right;\">\n",
       "      <th></th>\n",
       "      <th>price</th>\n",
       "      <th>area</th>\n",
       "      <th>bedrooms</th>\n",
       "      <th>bathrooms</th>\n",
       "      <th>stories</th>\n",
       "      <th>mainroad</th>\n",
       "      <th>guestroom</th>\n",
       "      <th>basement</th>\n",
       "      <th>hotwaterheating</th>\n",
       "      <th>airconditioning</th>\n",
       "      <th>parking</th>\n",
       "      <th>prefarea</th>\n",
       "      <th>furnishingstatus</th>\n",
       "    </tr>\n",
       "  </thead>\n",
       "  <tbody>\n",
       "    <tr>\n",
       "      <th>0</th>\n",
       "      <td>13300000</td>\n",
       "      <td>7420</td>\n",
       "      <td>4</td>\n",
       "      <td>2</td>\n",
       "      <td>3</td>\n",
       "      <td>yes</td>\n",
       "      <td>no</td>\n",
       "      <td>no</td>\n",
       "      <td>no</td>\n",
       "      <td>yes</td>\n",
       "      <td>2</td>\n",
       "      <td>yes</td>\n",
       "      <td>furnished</td>\n",
       "    </tr>\n",
       "    <tr>\n",
       "      <th>1</th>\n",
       "      <td>12250000</td>\n",
       "      <td>8960</td>\n",
       "      <td>4</td>\n",
       "      <td>4</td>\n",
       "      <td>4</td>\n",
       "      <td>yes</td>\n",
       "      <td>no</td>\n",
       "      <td>no</td>\n",
       "      <td>no</td>\n",
       "      <td>yes</td>\n",
       "      <td>3</td>\n",
       "      <td>no</td>\n",
       "      <td>furnished</td>\n",
       "    </tr>\n",
       "    <tr>\n",
       "      <th>2</th>\n",
       "      <td>12250000</td>\n",
       "      <td>9960</td>\n",
       "      <td>3</td>\n",
       "      <td>2</td>\n",
       "      <td>2</td>\n",
       "      <td>yes</td>\n",
       "      <td>no</td>\n",
       "      <td>yes</td>\n",
       "      <td>no</td>\n",
       "      <td>no</td>\n",
       "      <td>2</td>\n",
       "      <td>yes</td>\n",
       "      <td>semi_furnished</td>\n",
       "    </tr>\n",
       "    <tr>\n",
       "      <th>3</th>\n",
       "      <td>12215000</td>\n",
       "      <td>7500</td>\n",
       "      <td>4</td>\n",
       "      <td>2</td>\n",
       "      <td>2</td>\n",
       "      <td>yes</td>\n",
       "      <td>no</td>\n",
       "      <td>yes</td>\n",
       "      <td>no</td>\n",
       "      <td>yes</td>\n",
       "      <td>3</td>\n",
       "      <td>yes</td>\n",
       "      <td>furnished</td>\n",
       "    </tr>\n",
       "    <tr>\n",
       "      <th>4</th>\n",
       "      <td>11410000</td>\n",
       "      <td>7420</td>\n",
       "      <td>4</td>\n",
       "      <td>1</td>\n",
       "      <td>2</td>\n",
       "      <td>yes</td>\n",
       "      <td>yes</td>\n",
       "      <td>yes</td>\n",
       "      <td>no</td>\n",
       "      <td>yes</td>\n",
       "      <td>2</td>\n",
       "      <td>no</td>\n",
       "      <td>furnished</td>\n",
       "    </tr>\n",
       "  </tbody>\n",
       "</table>\n",
       "</div>"
      ]
     },
     "execution_count": 4,
     "metadata": {},
     "output_type": "execute_result"
    }
   ],
   "execution_count": 4
  },
  {
   "metadata": {
    "ExecuteTime": {
     "end_time": "2024-08-13T00:35:21.304813Z",
     "start_time": "2024-08-13T00:35:21.292381Z"
    }
   },
   "cell_type": "code",
   "source": [
    "n = len(df)\n",
    "\n",
    "train_n = int(n*0.6)\n",
    "val_n = int(n*0.2)\n",
    "test_n = n-train_n-val_n"
   ],
   "id": "ccac2cc3e5550f65",
   "outputs": [],
   "execution_count": 5
  },
  {
   "metadata": {
    "ExecuteTime": {
     "end_time": "2024-08-13T00:35:26.281434Z",
     "start_time": "2024-08-13T00:35:26.272095Z"
    }
   },
   "cell_type": "code",
   "source": [
    "np.random.seed(123)\n",
    "index = np.arange(n)\n",
    "np.random.shuffle(index)\n",
    "df_shuffled = df.iloc[index]"
   ],
   "id": "20a32fe3f68d3512",
   "outputs": [],
   "execution_count": 6
  },
  {
   "metadata": {
    "ExecuteTime": {
     "end_time": "2024-08-13T00:35:28.425335Z",
     "start_time": "2024-08-13T00:35:28.416168Z"
    }
   },
   "cell_type": "code",
   "source": [
    "df_train = df_shuffled[:train_n].copy()\n",
    "df_val = df_shuffled[train_n:train_n+val_n].copy()\n",
    "df_test = df_shuffled[train_n+val_n:].copy()\n",
    "\n",
    "y_train = df_train.pop('price').values\n",
    "y_val = df_val.pop('price').values\n",
    "y_test = df_test.pop('price').values"
   ],
   "id": "3659d41a95124281",
   "outputs": [],
   "execution_count": 7
  },
  {
   "metadata": {
    "ExecuteTime": {
     "end_time": "2024-08-13T00:37:59.981065Z",
     "start_time": "2024-08-13T00:37:59.976013Z"
    }
   },
   "cell_type": "code",
   "source": "base = ['area']",
   "id": "cf94424c48b6b2b8",
   "outputs": [],
   "execution_count": 8
  },
  {
   "metadata": {
    "ExecuteTime": {
     "end_time": "2024-08-13T01:26:46.878811Z",
     "start_time": "2024-08-13T01:26:46.868686Z"
    }
   },
   "cell_type": "code",
   "source": [
    "def X_prepare(df,base):\n",
    "    global features\n",
    "    df = df.copy()\n",
    "    features = base.copy()\n",
    "    \n",
    "    def class_features(df,name,n):\n",
    "        rank = df[name].value_counts().index\n",
    "        if n < len(rank):\n",
    "            for i in rank:\n",
    "                feature = '%s_%s' % (name,i)\n",
    "                features.append(feature)\n",
    "                df[feature] = (df[name] == i).astype(int)\n",
    "        else:\n",
    "            for i in rank[:n]:\n",
    "                feature = '%s_%s' % (name,i)\n",
    "                features.append(feature)\n",
    "                df[feature] = (df[name] == i).astype(int)\n",
    "                \n",
    "    class_features(df,'bedrooms',4)\n",
    "    class_features(df,'bathrooms',3)\n",
    "    class_features(df,'stories',4)\n",
    "    class_features(df,'mainroad',2)\n",
    "    class_features(df,'guestroom',2)\n",
    "    class_features(df,'hotwaterheating',2)\n",
    "    class_features(df,'basement',2)\n",
    "    class_features(df,'airconditioning',1)\n",
    "    \n",
    "    df_1 = df[features].copy()\n",
    "    df_1 = df_1.fillna(0)\n",
    "    X = df_1.values\n",
    "    return X"
   ],
   "id": "4d802ab18c193d90",
   "outputs": [],
   "execution_count": 96
  },
  {
   "metadata": {
    "ExecuteTime": {
     "end_time": "2024-08-13T01:26:47.174322Z",
     "start_time": "2024-08-13T01:26:47.157485Z"
    }
   },
   "cell_type": "code",
   "source": [
    "def regressor(X,y,alpha):\n",
    "    ones = np.ones(X.shape[0])      \n",
    "    X = np.column_stack((ones,X)) \n",
    "    \n",
    "    A = X.T.dot(X)\n",
    "    I = np.eye(A.shape[0])\n",
    "    \n",
    "    B = np.linalg.inv(A+alpha*I)\n",
    "    w = B.dot(X.T).dot(y)\n",
    "    \n",
    "    return w[0],w[1:]"
   ],
   "id": "7eabd786dbf9fbb3",
   "outputs": [],
   "execution_count": 97
  },
  {
   "metadata": {
    "ExecuteTime": {
     "end_time": "2024-08-13T01:26:47.476905Z",
     "start_time": "2024-08-13T01:26:47.468794Z"
    }
   },
   "cell_type": "code",
   "source": [
    "def rmse(y_pre,y):\n",
    "    dif = y_pre-y\n",
    "    dif_square = np.square(dif)\n",
    "    return np.sqrt(np.mean(dif_square))\n",
    "    #return np.sqrt(np.mean(np.square(dif)))"
   ],
   "id": "bc2171d84a87ed08",
   "outputs": [],
   "execution_count": 98
  },
  {
   "metadata": {
    "ExecuteTime": {
     "end_time": "2024-08-13T01:26:47.812975Z",
     "start_time": "2024-08-13T01:26:47.786154Z"
    }
   },
   "cell_type": "code",
   "source": [
    "X_train = X_prepare(df_train,base)\n",
    "X_val = X_prepare(df_val,base)"
   ],
   "id": "3138914554c6f8a9",
   "outputs": [],
   "execution_count": 99
  },
  {
   "metadata": {
    "ExecuteTime": {
     "end_time": "2024-08-13T01:26:48.399629Z",
     "start_time": "2024-08-13T01:26:48.391341Z"
    }
   },
   "cell_type": "code",
   "source": [
    "for i in [0,0.1,0.01,0.001,0.0001]:\n",
    "    w_0,w = regressor(X_train,y_train,i)\n",
    "    y_pre = w_0 + X_val.dot(w)\n",
    "    rmse_1 = rmse(y_pre,y_val)\n",
    "    print('%6.4f:%s'%(i,rmse_1))"
   ],
   "id": "b801ef1567747153",
   "outputs": [
    {
     "name": "stdout",
     "output_type": "stream",
     "text": [
      "0.0000:16852166.690154277\n",
      "0.1000:1013575.5367462354\n",
      "0.0100:1015119.739011284\n",
      "0.0010:1015276.4550686147\n",
      "0.0001:1015292.1492652273\n"
     ]
    }
   ],
   "execution_count": 100
  },
  {
   "metadata": {
    "ExecuteTime": {
     "end_time": "2024-08-13T01:26:49.949277Z",
     "start_time": "2024-08-13T01:26:49.744243Z"
    }
   },
   "cell_type": "code",
   "source": [
    "w_0,w = regressor(X_train,y_train,0.1)\n",
    "y_pre = w_0 + X_val.dot(w)\n",
    "#rmse_1 = rmse(y_pre,y_val)\n",
    "sns.histplot(y_pre,label='predicted')\n",
    "sns.histplot(y_val,label='actual')\n",
    "plt.legend()"
   ],
   "id": "6c2033aac07f1ecb",
   "outputs": [
    {
     "data": {
      "text/plain": [
       "<matplotlib.legend.Legend at 0x1a7bd4ee270>"
      ]
     },
     "execution_count": 101,
     "metadata": {},
     "output_type": "execute_result"
    },
    {
     "data": {
      "text/plain": [
       "<Figure size 640x480 with 1 Axes>"
      ],
      "image/png": "[encoded data removed]"
     },
     "metadata": {},
     "output_type": "display_data"
    }
   ],
   "execution_count": 101
  },
  {
   "metadata": {},
   "cell_type": "code",
   "outputs": [],
   "execution_count": null,
   "source": "",
   "id": "1c62a2a23fe9d35a"
  }
 ],
 "metadata": {
  "kernelspec": {
   "display_name": "Python 3",
   "language": "python",
   "name": "python3"
  },
  "language_info": {
   "codemirror_mode": {
    "name": "ipython",
    "version": 2
   },
   "file_extension": ".py",
   "mimetype": "text/x-python",
   "name": "python",
   "nbconvert_exporter": "python",
   "pygments_lexer": "ipython2",
   "version": "2.7.6"
  }
 },
 "nbformat": 4,
 "nbformat_minor": 5
}
