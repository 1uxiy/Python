{
 "cells": [
  {
   "cell_type": "code",
   "id": "initial_id",
   "metadata": {
    "collapsed": true,
    "ExecuteTime": {
     "end_time": "2024-08-16T03:23:24.120241Z",
     "start_time": "2024-08-16T03:23:23.942566Z"
    }
   },
   "source": [
    "import numpy as np\n",
    "import pandas as pd\n",
    "from matplotlib import pyplot as plt\n",
    "import seaborn as sns\n",
    "from sklearn.model_selection import train_test_split\n",
    "from sklearn.feature_extraction import DictVectorizer\n",
    "from sklearn.linear_model import Ridge\n",
    "from sklearn.metrics import mean_squared_error"
   ],
   "outputs": [],
   "execution_count": 1
  },
  {
   "metadata": {
    "ExecuteTime": {
     "end_time": "2024-08-16T03:23:24.182567Z",
     "start_time": "2024-08-16T03:23:24.121241Z"
    }
   },
   "cell_type": "code",
   "source": [
    "data = pd.read_csv('../scikit-learning data/data_car.csv')\n",
    "data.columns = data.columns.str.lower().str.replace(' ', '_')\n",
    "columns = list(data.dtypes[data.dtypes == 'object'].index)\n",
    "for col in columns:\n",
    "    data[col] = data[col].str.lower().str.replace(' ', '_')\n",
    "data = data.fillna(0)"
   ],
   "id": "4c3d2a1bc51f9082",
   "outputs": [],
   "execution_count": 2
  },
  {
   "metadata": {
    "ExecuteTime": {
     "end_time": "2024-08-16T03:23:24.199997Z",
     "start_time": "2024-08-16T03:23:24.183567Z"
    }
   },
   "cell_type": "code",
   "source": "data.head()",
   "id": "8f860dc04398ce11",
   "outputs": [
    {
     "data": {
      "text/plain": [
       "  make       model  year             engine_fuel_type  engine_hp  \\\n",
       "0  bmw  1_series_m  2011  premium_unleaded_(required)      335.0   \n",
       "1  bmw    1_series  2011  premium_unleaded_(required)      300.0   \n",
       "2  bmw    1_series  2011  premium_unleaded_(required)      300.0   \n",
       "3  bmw    1_series  2011  premium_unleaded_(required)      230.0   \n",
       "4  bmw    1_series  2011  premium_unleaded_(required)      230.0   \n",
       "\n",
       "   engine_cylinders transmission_type     driven_wheels  number_of_doors  \\\n",
       "0               6.0            manual  rear_wheel_drive              2.0   \n",
       "1               6.0            manual  rear_wheel_drive              2.0   \n",
       "2               6.0            manual  rear_wheel_drive              2.0   \n",
       "3               6.0            manual  rear_wheel_drive              2.0   \n",
       "4               6.0            manual  rear_wheel_drive              2.0   \n",
       "\n",
       "                         market_category vehicle_size vehicle_style  \\\n",
       "0  factory_tuner,luxury,high-performance      compact         coupe   \n",
       "1                     luxury,performance      compact   convertible   \n",
       "2                luxury,high-performance      compact         coupe   \n",
       "3                     luxury,performance      compact         coupe   \n",
       "4                                 luxury      compact   convertible   \n",
       "\n",
       "   highway_mpg  city_mpg  popularity   msrp  \n",
       "0           26        19        3916  46135  \n",
       "1           28        19        3916  40650  \n",
       "2           28        20        3916  36350  \n",
       "3           28        18        3916  29450  \n",
       "4           28        18        3916  34500  "
      ],
      "text/html": [
       "<div>\n",
       "<style scoped>\n",
       "    .dataframe tbody tr th:only-of-type {\n",
       "        vertical-align: middle;\n",
       "    }\n",
       "\n",
       "    .dataframe tbody tr th {\n",
       "        vertical-align: top;\n",
       "    }\n",
       "\n",
       "    .dataframe thead th {\n",
       "        text-align: right;\n",
       "    }\n",
       "</style>\n",
       "<table border=\"1\" class=\"dataframe\">\n",
       "  <thead>\n",
       "    <tr style=\"text-align: right;\">\n",
       "      <th></th>\n",
       "      <th>make</th>\n",
       "      <th>model</th>\n",
       "      <th>year</th>\n",
       "      <th>engine_fuel_type</th>\n",
       "      <th>engine_hp</th>\n",
       "      <th>engine_cylinders</th>\n",
       "      <th>transmission_type</th>\n",
       "      <th>driven_wheels</th>\n",
       "      <th>number_of_doors</th>\n",
       "      <th>market_category</th>\n",
       "      <th>vehicle_size</th>\n",
       "      <th>vehicle_style</th>\n",
       "      <th>highway_mpg</th>\n",
       "      <th>city_mpg</th>\n",
       "      <th>popularity</th>\n",
       "      <th>msrp</th>\n",
       "    </tr>\n",
       "  </thead>\n",
       "  <tbody>\n",
       "    <tr>\n",
       "      <th>0</th>\n",
       "      <td>bmw</td>\n",
       "      <td>1_series_m</td>\n",
       "      <td>2011</td>\n",
       "      <td>premium_unleaded_(required)</td>\n",
       "      <td>335.0</td>\n",
       "      <td>6.0</td>\n",
       "      <td>manual</td>\n",
       "      <td>rear_wheel_drive</td>\n",
       "      <td>2.0</td>\n",
       "      <td>factory_tuner,luxury,high-performance</td>\n",
       "      <td>compact</td>\n",
       "      <td>coupe</td>\n",
       "      <td>26</td>\n",
       "      <td>19</td>\n",
       "      <td>3916</td>\n",
       "      <td>46135</td>\n",
       "    </tr>\n",
       "    <tr>\n",
       "      <th>1</th>\n",
       "      <td>bmw</td>\n",
       "      <td>1_series</td>\n",
       "      <td>2011</td>\n",
       "      <td>premium_unleaded_(required)</td>\n",
       "      <td>300.0</td>\n",
       "      <td>6.0</td>\n",
       "      <td>manual</td>\n",
       "      <td>rear_wheel_drive</td>\n",
       "      <td>2.0</td>\n",
       "      <td>luxury,performance</td>\n",
       "      <td>compact</td>\n",
       "      <td>convertible</td>\n",
       "      <td>28</td>\n",
       "      <td>19</td>\n",
       "      <td>3916</td>\n",
       "      <td>40650</td>\n",
       "    </tr>\n",
       "    <tr>\n",
       "      <th>2</th>\n",
       "      <td>bmw</td>\n",
       "      <td>1_series</td>\n",
       "      <td>2011</td>\n",
       "      <td>premium_unleaded_(required)</td>\n",
       "      <td>300.0</td>\n",
       "      <td>6.0</td>\n",
       "      <td>manual</td>\n",
       "      <td>rear_wheel_drive</td>\n",
       "      <td>2.0</td>\n",
       "      <td>luxury,high-performance</td>\n",
       "      <td>compact</td>\n",
       "      <td>coupe</td>\n",
       "      <td>28</td>\n",
       "      <td>20</td>\n",
       "      <td>3916</td>\n",
       "      <td>36350</td>\n",
       "    </tr>\n",
       "    <tr>\n",
       "      <th>3</th>\n",
       "      <td>bmw</td>\n",
       "      <td>1_series</td>\n",
       "      <td>2011</td>\n",
       "      <td>premium_unleaded_(required)</td>\n",
       "      <td>230.0</td>\n",
       "      <td>6.0</td>\n",
       "      <td>manual</td>\n",
       "      <td>rear_wheel_drive</td>\n",
       "      <td>2.0</td>\n",
       "      <td>luxury,performance</td>\n",
       "      <td>compact</td>\n",
       "      <td>coupe</td>\n",
       "      <td>28</td>\n",
       "      <td>18</td>\n",
       "      <td>3916</td>\n",
       "      <td>29450</td>\n",
       "    </tr>\n",
       "    <tr>\n",
       "      <th>4</th>\n",
       "      <td>bmw</td>\n",
       "      <td>1_series</td>\n",
       "      <td>2011</td>\n",
       "      <td>premium_unleaded_(required)</td>\n",
       "      <td>230.0</td>\n",
       "      <td>6.0</td>\n",
       "      <td>manual</td>\n",
       "      <td>rear_wheel_drive</td>\n",
       "      <td>2.0</td>\n",
       "      <td>luxury</td>\n",
       "      <td>compact</td>\n",
       "      <td>convertible</td>\n",
       "      <td>28</td>\n",
       "      <td>18</td>\n",
       "      <td>3916</td>\n",
       "      <td>34500</td>\n",
       "    </tr>\n",
       "  </tbody>\n",
       "</table>\n",
       "</div>"
      ]
     },
     "execution_count": 3,
     "metadata": {},
     "output_type": "execute_result"
    }
   ],
   "execution_count": 3
  },
  {
   "metadata": {
    "ExecuteTime": {
     "end_time": "2024-08-16T03:23:24.261154Z",
     "start_time": "2024-08-16T03:23:24.200996Z"
    }
   },
   "cell_type": "code",
   "source": [
    "features = ['make','engine_fuel_type','engine_hp','transmission_type','driven_wheels','number_of_doors','vehicle_style','highway_mpg','city_mpg','popularity']\n",
    "#data = data[features]"
   ],
   "id": "40e2928b5a04de87",
   "outputs": [],
   "execution_count": 4
  },
  {
   "metadata": {
    "ExecuteTime": {
     "end_time": "2024-08-16T03:23:24.287269Z",
     "start_time": "2024-08-16T03:23:24.262154Z"
    }
   },
   "cell_type": "code",
   "source": [
    "df_train_full ,df_test =train_test_split(data,test_size=0.2,random_state=123)\n",
    "df_train,df_val = train_test_split(df_train_full,test_size=0.2,random_state=123)\n",
    "\n",
    "y_train = np.log1p(df_train.msrp.values)\n",
    "y_val = np.log1p(df_val.msrp.values)\n",
    "y_test = np.log1p(df_test.msrp.values) \n",
    "\n",
    "del df_train['msrp']\n",
    "del df_test['msrp']\n",
    "del df_val['msrp']"
   ],
   "id": "b3789c1b91803a1f",
   "outputs": [],
   "execution_count": 5
  },
  {
   "metadata": {
    "ExecuteTime": {
     "end_time": "2024-08-16T03:23:24.410209Z",
     "start_time": "2024-08-16T03:23:24.288369Z"
    }
   },
   "cell_type": "code",
   "source": [
    "df_train_dict = df_train[features].to_dict(orient='records')\n",
    "dv = DictVectorizer(sparse = False)\n",
    "dv.fit(df_train_dict)\n",
    "X_train =dv.transform(df_train_dict)\n",
    "dv.get_feature_names_out()"
   ],
   "id": "bdd50a01d27a2f56",
   "outputs": [
    {
     "data": {
      "text/plain": [
       "array(['city_mpg', 'driven_wheels=all_wheel_drive',\n",
       "       'driven_wheels=four_wheel_drive',\n",
       "       'driven_wheels=front_wheel_drive',\n",
       "       'driven_wheels=rear_wheel_drive', 'engine_fuel_type',\n",
       "       'engine_fuel_type=diesel', 'engine_fuel_type=electric',\n",
       "       'engine_fuel_type=flex-fuel_(premium_unleaded_recommended/e85)',\n",
       "       'engine_fuel_type=flex-fuel_(premium_unleaded_required/e85)',\n",
       "       'engine_fuel_type=flex-fuel_(unleaded/e85)',\n",
       "       'engine_fuel_type=flex-fuel_(unleaded/natural_gas)',\n",
       "       'engine_fuel_type=natural_gas',\n",
       "       'engine_fuel_type=premium_unleaded_(recommended)',\n",
       "       'engine_fuel_type=premium_unleaded_(required)',\n",
       "       'engine_fuel_type=regular_unleaded', 'engine_hp', 'highway_mpg',\n",
       "       'make=acura', 'make=alfa_romeo', 'make=aston_martin', 'make=audi',\n",
       "       'make=bentley', 'make=bmw', 'make=bugatti', 'make=buick',\n",
       "       'make=cadillac', 'make=chevrolet', 'make=chrysler', 'make=dodge',\n",
       "       'make=ferrari', 'make=fiat', 'make=ford', 'make=genesis',\n",
       "       'make=gmc', 'make=honda', 'make=hummer', 'make=hyundai',\n",
       "       'make=infiniti', 'make=kia', 'make=lamborghini', 'make=land_rover',\n",
       "       'make=lexus', 'make=lincoln', 'make=lotus', 'make=maserati',\n",
       "       'make=maybach', 'make=mazda', 'make=mclaren', 'make=mercedes-benz',\n",
       "       'make=mitsubishi', 'make=nissan', 'make=oldsmobile',\n",
       "       'make=plymouth', 'make=pontiac', 'make=porsche',\n",
       "       'make=rolls-royce', 'make=saab', 'make=scion', 'make=spyker',\n",
       "       'make=subaru', 'make=suzuki', 'make=tesla', 'make=toyota',\n",
       "       'make=volkswagen', 'make=volvo', 'number_of_doors', 'popularity',\n",
       "       'transmission_type=automated_manual',\n",
       "       'transmission_type=automatic', 'transmission_type=direct_drive',\n",
       "       'transmission_type=manual', 'transmission_type=unknown',\n",
       "       'vehicle_style=2dr_hatchback', 'vehicle_style=2dr_suv',\n",
       "       'vehicle_style=4dr_hatchback', 'vehicle_style=4dr_suv',\n",
       "       'vehicle_style=cargo_minivan', 'vehicle_style=cargo_van',\n",
       "       'vehicle_style=convertible', 'vehicle_style=convertible_suv',\n",
       "       'vehicle_style=coupe', 'vehicle_style=crew_cab_pickup',\n",
       "       'vehicle_style=extended_cab_pickup',\n",
       "       'vehicle_style=passenger_minivan', 'vehicle_style=passenger_van',\n",
       "       'vehicle_style=regular_cab_pickup', 'vehicle_style=sedan',\n",
       "       'vehicle_style=wagon'], dtype=object)"
      ]
     },
     "execution_count": 6,
     "metadata": {},
     "output_type": "execute_result"
    }
   ],
   "execution_count": 6
  },
  {
   "metadata": {
    "ExecuteTime": {
     "end_time": "2024-08-16T03:23:24.776316Z",
     "start_time": "2024-08-16T03:23:24.411208Z"
    }
   },
   "cell_type": "code",
   "source": [
    "ridge = Ridge(alpha=0.001)\n",
    "ridge.fit(X_train,y_train)\n",
    "y_pred = ridge.predict(X_train)\n",
    "rmse = mean_squared_error(y_train,y_pred)\n",
    "print(rmse)\n",
    "sns.histplot(y_train,label='train')\n",
    "sns.histplot(y_pred,label='prediction')\n",
    "plt.legend()"
   ],
   "id": "54c6961e8c3cefe6",
   "outputs": [
    {
     "name": "stdout",
     "output_type": "stream",
     "text": [
      "0.3330721067996182\n"
     ]
    },
    {
     "data": {
      "text/plain": [
       "<matplotlib.legend.Legend at 0x26fd1405e50>"
      ]
     },
     "execution_count": 7,
     "metadata": {},
     "output_type": "execute_result"
    },
    {
     "data": {
      "text/plain": [
       "<Figure size 640x480 with 1 Axes>"
      ],
      "image/png": "[encoded data removed]"
     },
     "metadata": {},
     "output_type": "display_data"
    }
   ],
   "execution_count": 7
  },
  {
   "metadata": {
    "ExecuteTime": {
     "end_time": "2024-08-16T03:26:51.430701Z",
     "start_time": "2024-08-16T03:26:51.404349Z"
    }
   },
   "cell_type": "code",
   "source": [
    "df_val_dict = df_val[features].to_dict(orient='records')\n",
    "X_val = dv.transform(df_val_dict)"
   ],
   "id": "2551afd9ca3190c9",
   "outputs": [],
   "execution_count": 8
  },
  {
   "metadata": {
    "ExecuteTime": {
     "end_time": "2024-08-16T03:26:52.271758Z",
     "start_time": "2024-08-16T03:26:51.988748Z"
    }
   },
   "cell_type": "code",
   "source": [
    "y_pred = ridge.predict(X_val)\n",
    "rmse = mean_squared_error(y_val,y_pred)\n",
    "print(rmse)\n",
    "sns.histplot(y_val,label='val')\n",
    "sns.histplot(y_pred,label='prediction')\n",
    "plt.legend()"
   ],
   "id": "55dec2c0d357cbe7",
   "outputs": [
    {
     "name": "stdout",
     "output_type": "stream",
     "text": [
      "0.33365572742429217\n"
     ]
    },
    {
     "data": {
      "text/plain": [
       "<matplotlib.legend.Legend at 0x26fd14611f0>"
      ]
     },
     "execution_count": 9,
     "metadata": {},
     "output_type": "execute_result"
    },
    {
     "data": {
      "text/plain": [
       "<Figure size 640x480 with 1 Axes>"
      ],
      "image/png": "[encoded data removed]"
     },
     "metadata": {},
     "output_type": "display_data"
    }
   ],
   "execution_count": 9
  },
  {
   "metadata": {
    "ExecuteTime": {
     "end_time": "2024-08-16T03:23:24.785961Z",
     "start_time": "2024-08-16T03:23:24.783777Z"
    }
   },
   "cell_type": "code",
   "source": "",
   "id": "4426c7e6fa1077e4",
   "outputs": [],
   "execution_count": 7
  }
 ],
 "metadata": {
  "kernelspec": {
   "display_name": "Python 3",
   "language": "python",
   "name": "python3"
  },
  "language_info": {
   "codemirror_mode": {
    "name": "ipython",
    "version": 2
   },
   "file_extension": ".py",
   "mimetype": "text/x-python",
   "name": "python",
   "nbconvert_exporter": "python",
   "pygments_lexer": "ipython2",
   "version": "2.7.6"
  }
 },
 "nbformat": 4,
 "nbformat_minor": 5
}
