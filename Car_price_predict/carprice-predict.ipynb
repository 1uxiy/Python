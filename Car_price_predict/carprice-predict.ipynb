{
 "cells": [
  {
   "cell_type": "code",
   "id": "9f029aff-0b81-46d9-a9f1-f6c0c0b4b552",
   "metadata": {
    "ExecuteTime": {
     "end_time": "2024-08-12T06:16:20.189678Z",
     "start_time": "2024-08-12T06:16:20.185779Z"
    }
   },
   "source": [
    "import numpy as np\n",
    "import pandas as pd\n",
    "from matplotlib import pyplot as plt\n",
    "import seaborn as sns\n",
    "#%matplotlib inline"
   ],
   "outputs": [],
   "execution_count": 1
  },
  {
   "cell_type": "code",
   "id": "21008bbe-649e-43f6-b6f9-8cfb8c0fec58",
   "metadata": {
    "ExecuteTime": {
     "end_time": "2024-08-12T06:16:20.192138Z",
     "start_time": "2024-08-12T06:16:20.189678Z"
    }
   },
   "source": [],
   "outputs": [],
   "execution_count": 1
  },
  {
   "cell_type": "code",
   "id": "4d96cadf-f931-4397-b319-6b7610bc40db",
   "metadata": {
    "ExecuteTime": {
     "end_time": "2024-08-12T06:16:20.230735Z",
     "start_time": "2024-08-12T06:16:20.192138Z"
    }
   },
   "source": [
    "df = pd.read_csv('C:/Users/DELL/Desktop/data_car.csv')"
   ],
   "outputs": [],
   "execution_count": 2
  },
  {
   "cell_type": "code",
   "id": "bda1c90e-ef3e-4825-975d-b2dbd769228d",
   "metadata": {
    "ExecuteTime": {
     "end_time": "2024-08-12T06:16:20.271809Z",
     "start_time": "2024-08-12T06:16:20.230735Z"
    }
   },
   "source": [
    "df.columns = df.columns.str.lower().str.replace(' ','_')"
   ],
   "outputs": [],
   "execution_count": 3
  },
  {
   "cell_type": "code",
   "id": "f1e1f097-1b89-43ba-8703-f92c38b8ff41",
   "metadata": {
    "ExecuteTime": {
     "end_time": "2024-08-12T06:16:20.287220Z",
     "start_time": "2024-08-12T06:16:20.271809Z"
    }
   },
   "source": [
    "string_columns = list(df.dtypes[df.dtypes == 'object'].index)"
   ],
   "outputs": [],
   "execution_count": 4
  },
  {
   "cell_type": "code",
   "id": "c4c478e5-a64c-4838-9acb-22a29f257f31",
   "metadata": {
    "ExecuteTime": {
     "end_time": "2024-08-12T06:16:20.331532Z",
     "start_time": "2024-08-12T06:16:20.287220Z"
    }
   },
   "source": [
    "for col in string_columns:\n",
    "    df[col]=df[col].str.lower().str.replace(' ','_')"
   ],
   "outputs": [],
   "execution_count": 5
  },
  {
   "cell_type": "code",
   "id": "6599701f-9641-476e-9b9a-df899277e5d9",
   "metadata": {
    "ExecuteTime": {
     "end_time": "2024-08-12T06:16:20.339348Z",
     "start_time": "2024-08-12T06:16:20.331532Z"
    }
   },
   "source": [
    "n = len(df)\n",
    "n_val = int(n*0.2)\n",
    "n_test = int(n*0.2)\n",
    "n_train = int(n*0.6)    #确定总行数、用于验证、测试、训练的数据的行数\n"
   ],
   "outputs": [],
   "execution_count": 6
  },
  {
   "cell_type": "code",
   "id": "036ea0ec-2db9-4057-bc3c-b4cf1d2b4630",
   "metadata": {
    "ExecuteTime": {
     "end_time": "2024-08-12T06:16:20.360983Z",
     "start_time": "2024-08-12T06:16:20.339348Z"
    }
   },
   "source": [
    "np.random.seed(2)\n",
    "idex = np.arange(n)\n",
    "np.random.shuffle(idex)    #shuffle函数随机打乱idex的顺序\n",
    "\n",
    "df_shuffle = df.iloc[idex]    #获得无序的df\n"
   ],
   "outputs": [],
   "execution_count": 7
  },
  {
   "cell_type": "code",
   "id": "50f02324-7d02-424e-9eab-1cf9b1fd2202",
   "metadata": {
    "ExecuteTime": {
     "end_time": "2024-08-12T06:16:20.374526Z",
     "start_time": "2024-08-12T06:16:20.360983Z"
    }
   },
   "source": [
    "df_train = df_shuffle.iloc[:n_train].copy()\n",
    "df_val = df_shuffle.iloc[n_train:n_train+n_val].copy()\n",
    "df_test = df_shuffle.iloc[n_train+n_val:].copy()           #创建训练集、验证集、测试集"
   ],
   "outputs": [],
   "execution_count": 8
  },
  {
   "cell_type": "code",
   "id": "c77994ed-2bae-4210-b99d-b455d8a389aa",
   "metadata": {
    "ExecuteTime": {
     "end_time": "2024-08-12T06:16:20.429241Z",
     "start_time": "2024-08-12T06:16:20.374526Z"
    }
   },
   "source": [
    "y_train = np.log1p(df_train.msrp.values)\n",
    "y_val = np.log1p(df_val.msrp.values)\n",
    "y_test = np.log1p(df_test.msrp.values)            #设置y值，即机器学习中期待输出的值，这里采用log（price+1）的形式以消除长尾影响\n",
    "\n",
    "del df_train['msrp']\n",
    "del df_val['msrp']\n",
    "del df_test['msrp']       # 删除训练集、验证集、测试集中的msrp列，防止其作为输入值影响输出"
   ],
   "outputs": [],
   "execution_count": 9
  },
  {
   "cell_type": "code",
   "id": "92070517-a40e-44ac-9852-a416d27ecf31",
   "metadata": {
    "scrolled": true,
    "ExecuteTime": {
     "end_time": "2024-08-12T06:16:20.451325Z",
     "start_time": "2024-08-12T06:16:20.429241Z"
    }
   },
   "source": [
    "'''\n",
    "到这里，数据准备阶段已经完成\n",
    "下一步，训练建模\n",
    "'''"
   ],
   "outputs": [
    {
     "data": {
      "text/plain": [
       "'\\n到这里，数据准备阶段已经完成\\n下一步，训练建模\\n'"
      ]
     },
     "execution_count": 10,
     "metadata": {},
     "output_type": "execute_result"
    }
   ],
   "execution_count": 10
  },
  {
   "cell_type": "code",
   "id": "4535e1de-23f1-4851-a584-c76b2e207ae3",
   "metadata": {
    "ExecuteTime": {
     "end_time": "2024-08-12T06:16:20.464804Z",
     "start_time": "2024-08-12T06:16:20.451325Z"
    }
   },
   "source": [
    "def train_linear_regression(X,y):         \n",
    "    ones = np.ones(X.shape[0])      \n",
    "    X = np.column_stack((ones,X))        #为X数组前面加一列1，方便计算\n",
    "    XTX = X.T.dot(X)   \n",
    "    XTX_inv = np.linalg.inv(XTX)\n",
    "    w=XTX_inv.dot(X.T).dot(y)                    #计算w向量\n",
    "    return w[0],w[1:]"
   ],
   "outputs": [],
   "execution_count": 11
  },
  {
   "cell_type": "code",
   "id": "c079ad97-17c5-4e34-af44-9caf83f7a05e",
   "metadata": {
    "ExecuteTime": {
     "end_time": "2024-08-12T06:16:20.481436Z",
     "start_time": "2024-08-12T06:16:20.464804Z"
    }
   },
   "source": "base = ['engine_hp','engine_cylinders','highway_mpg','city_mpg','popularity']\n",
   "outputs": [],
   "execution_count": 12
  },
  {
   "metadata": {
    "ExecuteTime": {
     "end_time": "2024-08-12T06:16:20.539777Z",
     "start_time": "2024-08-12T06:16:20.481436Z"
    }
   },
   "cell_type": "code",
   "source": [
    "def class_feature(df,name,n,vector):\n",
    "    global features_1\n",
    "    features_1 = vector.copy()\n",
    "\n",
    "    rank=df[name].value_counts()\n",
    "    if len(rank.index)<n:\n",
    "        for value in rank.index:\n",
    "            feature = '%s_%s'%(name,value)\n",
    "            features_1.append(feature)\n",
    "            df[feature] = (df[name]==value).astype(int)\n",
    "    else:\n",
    "        for value in rank.index[:n]:\n",
    "            feature = '%s_%s'%(name,value)\n",
    "            features_1.append(feature)\n",
    "            df[feature] = (df[name]==value).astype(int)\n"
   ],
   "id": "4ddba62809013e76",
   "outputs": [],
   "execution_count": 13
  },
  {
   "metadata": {
    "ExecuteTime": {
     "end_time": "2024-08-12T06:16:20.555987Z",
     "start_time": "2024-08-12T06:16:20.539777Z"
    }
   },
   "cell_type": "code",
   "source": [
    "def prepare_X(df):     #处理分类变量——车门数量：将车门数量转化为三个特征值,并且每个特征值只有1和0两个值\n",
    "    df = df.copy()\n",
    "    features = base.copy()\n",
    "    \n",
    "    class_feature(df,'number_of_doors',3,features)\n",
    "\n",
    "    class_feature(df,'make',5,features_1)\n",
    "    \n",
    "    df['age'] = 2017 - df.year\n",
    "    features_1.append('age')\n",
    "     \n",
    "    df_num = df[features_1]\n",
    "    df_num = df_num.fillna(0)\n",
    "    df_num.head()\n",
    "    X = df_num.values\n",
    "    return X"
   ],
   "id": "298e995c52c211bf",
   "outputs": [],
   "execution_count": 14
  },
  {
   "metadata": {
    "ExecuteTime": {
     "end_time": "2024-08-12T06:16:20.572150Z",
     "start_time": "2024-08-12T06:16:20.555987Z"
    }
   },
   "cell_type": "code",
   "source": [
    "def train_linear_regression_reg(X,y,r):    #正则化的线性回归，用于消除数据的噪声\n",
    "    ones = np.ones(X.shape[0])      \n",
    "    X = np.column_stack((ones,X))        #为X数组前面加一列1，方便计算\n",
    "    \n",
    "    XTX = X.T.dot(X) \n",
    "    reg = np.eye(XTX.shape[0]) * r\n",
    "    XTX = XTX + reg\n",
    "    XTX_inv = np.linalg.inv(XTX)\n",
    "    \n",
    "    w=XTX_inv.dot(X.T).dot(y)                    #计算w向量\n",
    "    \n",
    "    return w[0],w[1:]"
   ],
   "id": "d71099ba30fe8a1f",
   "outputs": [],
   "execution_count": 15
  },
  {
   "metadata": {
    "ExecuteTime": {
     "end_time": "2024-08-12T06:16:20.586747Z",
     "start_time": "2024-08-12T06:16:20.572150Z"
    }
   },
   "cell_type": "code",
   "source": [
    "def rmse(y,y_pred):\n",
    "    dif = y-y_pred\n",
    "    return np.sqrt(np.mean(np.square(dif)))"
   ],
   "id": "5a2dadb217180099",
   "outputs": [],
   "execution_count": 16
  },
  {
   "metadata": {
    "ExecuteTime": {
     "end_time": "2024-08-12T06:16:20.879037Z",
     "start_time": "2024-08-12T06:16:20.588424Z"
    }
   },
   "cell_type": "code",
   "source": [
    "X_train = prepare_X(df_train)\n",
    "X_val = prepare_X(df_val)\n",
    "r= 0.001\n",
    "w_0, w = train_linear_regression_reg(X_train,y_train,r=r)\n",
    "y_pred = w_0+X_val.dot(w)\n",
    "rmse_val = rmse(y_val,y_pred)\n",
    "\n",
    "print(rmse_val)\n",
    "sns.histplot(y_val,label='actual')\n",
    "sns.histplot(y_pred,label='predicted')\n",
    "plt.legend()"
   ],
   "id": "a13b424f8ab95e55",
   "outputs": [
    {
     "name": "stdout",
     "output_type": "stream",
     "text": [
      "0.5074580843454007\n"
     ]
    },
    {
     "data": {
      "text/plain": [
       "<matplotlib.legend.Legend at 0x1ebf84465a0>"
      ]
     },
     "execution_count": 17,
     "metadata": {},
     "output_type": "execute_result"
    },
    {
     "data": {
      "text/plain": [
       "<Figure size 640x480 with 1 Axes>"
      ],
      "image/png": "[encoded data removed]"
     },
     "metadata": {},
     "output_type": "display_data"
    }
   ],
   "execution_count": 17
  },
  {
   "metadata": {
    "ExecuteTime": {
     "end_time": "2024-08-12T06:16:20.881980Z",
     "start_time": "2024-08-12T06:16:20.879037Z"
    }
   },
   "cell_type": "code",
   "source": "",
   "id": "8431d14973b1cd46",
   "outputs": [],
   "execution_count": 17
  },
  {
   "metadata": {
    "ExecuteTime": {
     "end_time": "2024-08-12T06:16:20.884587Z",
     "start_time": "2024-08-12T06:16:20.881980Z"
    }
   },
   "cell_type": "code",
   "source": "",
   "id": "a708c5a8feab5ed8",
   "outputs": [],
   "execution_count": 17
  },
  {
   "metadata": {
    "ExecuteTime": {
     "end_time": "2024-08-12T06:16:20.888574Z",
     "start_time": "2024-08-12T06:16:20.884587Z"
    }
   },
   "cell_type": "code",
   "source": "",
   "id": "53abab8c3b627bc5",
   "outputs": [],
   "execution_count": 17
  }
 ],
 "metadata": {
  "kernelspec": {
   "display_name": "Python 3 (ipykernel)",
   "language": "python",
   "name": "python3"
  },
  "language_info": {
   "codemirror_mode": {
    "name": "ipython",
    "version": 3
   },
   "file_extension": ".py",
   "mimetype": "text/x-python",
   "name": "python",
   "nbconvert_exporter": "python",
   "pygments_lexer": "ipython3",
   "version": "3.12.4"
  }
 },
 "nbformat": 4,
 "nbformat_minor": 5
}
